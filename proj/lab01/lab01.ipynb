{
 "cells": [
  {
   "cell_type": "code",
   "execution_count": 1,
   "id": "e6b71f0a",
   "metadata": {},
   "outputs": [],
   "source": [
    "import os\n",
    "import numpy as np\n",
    "import pandas as pd"
   ]
  },
  {
   "cell_type": "code",
   "execution_count": 34,
   "id": "218949e4",
   "metadata": {},
   "outputs": [],
   "source": [
    "PATH_to_data = '/home/greg/studying/spark/ml-100k/'\n",
    "PATH_to_results = '/home/greg/studying/spark/proj/results/'"
   ]
  },
  {
   "cell_type": "code",
   "execution_count": 3,
   "id": "028b3580",
   "metadata": {},
   "outputs": [
    {
     "name": "stdout",
     "output_type": "stream",
     "text": [
      "['u2.base', 'ua.base', 'u1.test', 'u4.test', 'u3.base', 'ub.base', 'u5.base', 'u1.base', 'u.data', 'u4.base', 'u2.test', 'u.info', 'ua.test', 'u5.test', 'README', 'u.genre', 'mku.sh', 'u.user', 'allbut.pl', 'u.item', 'ub.test', 'u.occupation', 'u3.test']\n"
     ]
    }
   ],
   "source": [
    "lst_files = os.listdir(PATH_to_data)\n",
    "print(lst_files)"
   ]
  },
  {
   "cell_type": "code",
   "execution_count": 4,
   "id": "01199bec",
   "metadata": {},
   "outputs": [],
   "source": [
    "PATH_to_file = PATH_to_data + 'u.data'"
   ]
  },
  {
   "cell_type": "code",
   "execution_count": 5,
   "id": "0b87ec61",
   "metadata": {},
   "outputs": [],
   "source": [
    "data = pd.read_csv(PATH_to_file, sep='\\t', header=None)"
   ]
  },
  {
   "cell_type": "code",
   "execution_count": 6,
   "id": "b965bc0b",
   "metadata": {},
   "outputs": [],
   "source": [
    "data.columns = ['user_id', 'item_id', 'rating', 'timestamp']"
   ]
  },
  {
   "cell_type": "code",
   "execution_count": 7,
   "id": "8e97bd29",
   "metadata": {},
   "outputs": [
    {
     "data": {
      "text/html": [
       "<div>\n",
       "<style scoped>\n",
       "    .dataframe tbody tr th:only-of-type {\n",
       "        vertical-align: middle;\n",
       "    }\n",
       "\n",
       "    .dataframe tbody tr th {\n",
       "        vertical-align: top;\n",
       "    }\n",
       "\n",
       "    .dataframe thead th {\n",
       "        text-align: right;\n",
       "    }\n",
       "</style>\n",
       "<table border=\"1\" class=\"dataframe\">\n",
       "  <thead>\n",
       "    <tr style=\"text-align: right;\">\n",
       "      <th></th>\n",
       "      <th>user_id</th>\n",
       "      <th>item_id</th>\n",
       "      <th>rating</th>\n",
       "      <th>timestamp</th>\n",
       "    </tr>\n",
       "  </thead>\n",
       "  <tbody>\n",
       "    <tr>\n",
       "      <th>0</th>\n",
       "      <td>196</td>\n",
       "      <td>242</td>\n",
       "      <td>3</td>\n",
       "      <td>881250949</td>\n",
       "    </tr>\n",
       "    <tr>\n",
       "      <th>1</th>\n",
       "      <td>186</td>\n",
       "      <td>302</td>\n",
       "      <td>3</td>\n",
       "      <td>891717742</td>\n",
       "    </tr>\n",
       "    <tr>\n",
       "      <th>2</th>\n",
       "      <td>22</td>\n",
       "      <td>377</td>\n",
       "      <td>1</td>\n",
       "      <td>878887116</td>\n",
       "    </tr>\n",
       "    <tr>\n",
       "      <th>3</th>\n",
       "      <td>244</td>\n",
       "      <td>51</td>\n",
       "      <td>2</td>\n",
       "      <td>880606923</td>\n",
       "    </tr>\n",
       "    <tr>\n",
       "      <th>4</th>\n",
       "      <td>166</td>\n",
       "      <td>346</td>\n",
       "      <td>1</td>\n",
       "      <td>886397596</td>\n",
       "    </tr>\n",
       "  </tbody>\n",
       "</table>\n",
       "</div>"
      ],
      "text/plain": [
       "   user_id  item_id  rating  timestamp\n",
       "0      196      242       3  881250949\n",
       "1      186      302       3  891717742\n",
       "2       22      377       1  878887116\n",
       "3      244       51       2  880606923\n",
       "4      166      346       1  886397596"
      ]
     },
     "execution_count": 7,
     "metadata": {},
     "output_type": "execute_result"
    }
   ],
   "source": [
    "data.head()"
   ]
  },
  {
   "cell_type": "code",
   "execution_count": 8,
   "id": "e2ab12dd",
   "metadata": {},
   "outputs": [
    {
     "name": "stdout",
     "output_type": "stream",
     "text": [
      "<class 'pandas.core.frame.DataFrame'>\n",
      "RangeIndex: 100000 entries, 0 to 99999\n",
      "Data columns (total 4 columns):\n",
      " #   Column     Non-Null Count   Dtype\n",
      "---  ------     --------------   -----\n",
      " 0   user_id    100000 non-null  int64\n",
      " 1   item_id    100000 non-null  int64\n",
      " 2   rating     100000 non-null  int64\n",
      " 3   timestamp  100000 non-null  int64\n",
      "dtypes: int64(4)\n",
      "memory usage: 3.1 MB\n"
     ]
    }
   ],
   "source": [
    "data.info()"
   ]
  },
  {
   "cell_type": "code",
   "execution_count": 9,
   "id": "a8c2e2b5",
   "metadata": {},
   "outputs": [
    {
     "data": {
      "text/plain": [
       "1     6110\n",
       "2    11370\n",
       "3    27145\n",
       "4    34174\n",
       "5    21201\n",
       "Name: rating, dtype: int64"
      ]
     },
     "execution_count": 9,
     "metadata": {},
     "output_type": "execute_result"
    }
   ],
   "source": [
    "hist_all = data.rating.value_counts().sort_index()\n",
    "hist_all"
   ]
  },
  {
   "cell_type": "code",
   "execution_count": 30,
   "id": "11395234",
   "metadata": {},
   "outputs": [
    {
     "data": {
      "text/plain": [
       "'6110,11370,27145,34174,21201'"
      ]
     },
     "execution_count": 30,
     "metadata": {},
     "output_type": "execute_result"
    }
   ],
   "source": [
    "hist_all_list = data.rating.value_counts().sort_index().tolist()\n",
    "hist_all_str = ','.join([str(i) for i in hist_all_list])\n",
    "hist_all_str"
   ]
  },
  {
   "cell_type": "code",
   "execution_count": 11,
   "id": "0ef81725",
   "metadata": {},
   "outputs": [],
   "source": [
    "data_22 = data[data.item_id == 22]"
   ]
  },
  {
   "cell_type": "code",
   "execution_count": 12,
   "id": "3c844026",
   "metadata": {},
   "outputs": [
    {
     "data": {
      "text/plain": [
       "1      5\n",
       "2     14\n",
       "3     46\n",
       "4     98\n",
       "5    134\n",
       "Name: rating, dtype: int64"
      ]
     },
     "execution_count": 12,
     "metadata": {},
     "output_type": "execute_result"
    }
   ],
   "source": [
    "hist_film = data_22.rating.value_counts().sort_index()\n",
    "hist_film"
   ]
  },
  {
   "cell_type": "code",
   "execution_count": 29,
   "id": "c2eb3865",
   "metadata": {},
   "outputs": [
    {
     "data": {
      "text/plain": [
       "'5,14,46,98,134'"
      ]
     },
     "execution_count": 29,
     "metadata": {},
     "output_type": "execute_result"
    }
   ],
   "source": [
    "hist_film_list = data_22.rating.value_counts().sort_index().tolist()\n",
    "hist_film_str = ','.join([str(i) for i in hist_film_list])\n",
    "hist_film_str"
   ]
  },
  {
   "cell_type": "code",
   "execution_count": 21,
   "id": "00ddd412",
   "metadata": {},
   "outputs": [],
   "source": [
    "# {\"hist_film\":[11,22,33,44,55],\"hist_all\":[134,123,782,356,148]}"
   ]
  },
  {
   "cell_type": "code",
   "execution_count": 32,
   "id": "54e5bfc6",
   "metadata": {},
   "outputs": [
    {
     "data": {
      "text/plain": [
       "'{\"hist_film\":[5,14,46,98,134],\"hist_all\":[6110,11370,27145,34174,21201]}'"
      ]
     },
     "execution_count": 32,
     "metadata": {},
     "output_type": "execute_result"
    }
   ],
   "source": [
    "out_json = '{\"hist_film\":[' + hist_film_str + '],\"hist_all\":[' + hist_all_str + ']}'\n",
    "out_json"
   ]
  },
  {
   "cell_type": "code",
   "execution_count": 35,
   "id": "9411850c",
   "metadata": {},
   "outputs": [],
   "source": [
    "json_file = open(PATH_to_results + 'lab01.json', \"w\")\n",
    "json_file.write(out_json)\n",
    "json_file.close()"
   ]
  },
  {
   "cell_type": "code",
   "execution_count": null,
   "id": "07e0f7db",
   "metadata": {},
   "outputs": [],
   "source": []
  }
 ],
 "metadata": {
  "kernelspec": {
   "display_name": "Python 3 (ipykernel)",
   "language": "python",
   "name": "python3"
  },
  "language_info": {
   "codemirror_mode": {
    "name": "ipython",
    "version": 3
   },
   "file_extension": ".py",
   "mimetype": "text/x-python",
   "name": "python",
   "nbconvert_exporter": "python",
   "pygments_lexer": "ipython3",
   "version": "3.9.12"
  }
 },
 "nbformat": 4,
 "nbformat_minor": 5
}
