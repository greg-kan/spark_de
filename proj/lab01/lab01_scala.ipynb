{
 "cells": [
  {
   "cell_type": "code",
   "execution_count": 1,
   "metadata": {},
   "outputs": [],
   "source": [
    "import scala.io.BufferedSource\n",
    "import scala.io.Source.fromFile\n",
    "import scala.collection.immutable.ListMap\n",
    "import java.io._"
   ]
  },
  {
   "cell_type": "code",
   "execution_count": 2,
   "metadata": {},
   "outputs": [
    {
     "data": {
      "text/plain": [
       "source = empty iterator\n",
       "lines = List(Array(196, 242, 3, 881250949), Array(186, 302, 3, 891717742), Array(22, 377, 1, 878887116), Array(244, 51, 2, 880606923), Array(166, 346, 1, 886397596), Array(298, 474, 4, 884182806), Array(115, 265, 2, 881171488), Array(253, 465, 5, 891628467), Array(305, 451, 3, 886324817), Array(6, 86, 3, 883603013), Array(62, 257, 2, 879372434), Array(286, 1014, 5, 879781125), Array(200, 222, 5, 876042340), Array(210, 40, 3, 891035994), Array(224, 29, 3, 888104457), Array(303, 785, 3, 879485318), Array(122, 387, 5, 879270459), Array(194, 274, 2, 879539794), Array(291, 1042, 4, 874834944), Array(234, 1184, 2, 892079237), Array(119, 392, 4, 886176814), Array(167, 486, 4, 892738452), Array(299, 144, 4, 877881320), Array(2...\n"
      ]
     },
     "metadata": {},
     "output_type": "display_data"
    },
    {
     "data": {
      "text/plain": [
       "List(Array(196, 242, 3, 881250949), Array(186, 302, 3, 891717742), Array(22, 377, 1, 878887116), Array(244, 51, 2, 880606923), Array(166, 346, 1, 886397596), Array(298, 474, 4, 884182806), Array(115, 265, 2, 881171488), Array(253, 465, 5, 891628467), Array(305, 451, 3, 886324817), Array(6, 86, 3, 883603013), Array(62, 257, 2, 879372434), Array(286, 1014, 5, 879781125), Array(200, 222, 5, 876042340), Array(210, 40, 3, 891035994), Array(224, 29, 3, 888104457), Array(303, 785, 3, 879485318), Array(122, 387, 5, 879270459), Array(194, 274, 2, 879539794), Array(291, 1042, 4, 874834944), Array(234, 1184, 2, 892079237), Array(119, 392, 4, 886176814), Array(167, 486, 4, 892738452), Array(299, 144, 4, 877881320), Array(2..."
      ]
     },
     "execution_count": 2,
     "metadata": {},
     "output_type": "execute_result"
    }
   ],
   "source": [
    "val source: BufferedSource = fromFile(\"./ml-100k/u.data\")\n",
    "\n",
    "val lines: Seq[Array[String]] = source.getLines.toList\n",
    "  .map(string => string.split(\"\\t\"))"
   ]
  },
  {
   "cell_type": "code",
   "execution_count": 3,
   "metadata": {},
   "outputs": [],
   "source": [
    "source.close()"
   ]
  },
  {
   "cell_type": "code",
   "execution_count": 4,
   "metadata": {},
   "outputs": [
    {
     "data": {
      "text/plain": [
       "100000"
      ]
     },
     "execution_count": 4,
     "metadata": {},
     "output_type": "execute_result"
    }
   ],
   "source": [
    "lines.length"
   ]
  },
  {
   "cell_type": "code",
   "execution_count": 5,
   "metadata": {},
   "outputs": [
    {
     "data": {
      "text/plain": [
       "lines_film = List()\n"
      ]
     },
     "metadata": {},
     "output_type": "display_data"
    },
    {
     "data": {
      "text/plain": [
       "List()"
      ]
     },
     "execution_count": 5,
     "metadata": {},
     "output_type": "execute_result"
    }
   ],
   "source": [
    "var lines_film: Seq[Array[String]] = Seq()"
   ]
  },
  {
   "cell_type": "code",
   "execution_count": 6,
   "metadata": {},
   "outputs": [
    {
     "data": {
      "text/plain": [
       "List((), (), (), (), (), (), (), (), (), (), (), (), (), (), (), (), (), (), (), (), (), (), (), (), (), (), (), (), (), (), (), (), (), (), (), (), (), (), (), (), (), (), (), (), (), (), (), (), (), (), (), (), (), (), (), (), (), (), (), (), (), (), (), (), (), (), (), (), (), (), (), (), (), (), (), (), (), (), (), (), (), (), (), (), (), (), (), (), (), (), (), (), (), (), (), (), (), (), (), (), (), (), (), (), (), (), (), (), (), (), (), (), (), (), (), (), (), (), (), (), (), (), (), (), (), (), (), (), (), (), (), (), (), (), (), (), (), (), (), (), (), (), (), (), (), (), (), (), (), (), (), (), (), (), (), (), (), (), (), (), (), (), (), (), (), (), (), (), (), (), (), (), (), (), (), (), (), (), (), (), (), (), (), (), (), (), (), (), (), (), (), (), (), (..."
      ]
     },
     "execution_count": 6,
     "metadata": {},
     "output_type": "execute_result"
    }
   ],
   "source": [
    "lines.map(x=> if (x(1) == \"22\") {lines_film = lines_film :+ x})"
   ]
  },
  {
   "cell_type": "code",
   "execution_count": 7,
   "metadata": {},
   "outputs": [
    {
     "data": {
      "text/plain": [
       "297"
      ]
     },
     "execution_count": 7,
     "metadata": {},
     "output_type": "execute_result"
    }
   ],
   "source": [
    "lines_film.length"
   ]
  },
  {
   "cell_type": "code",
   "execution_count": 8,
   "metadata": {},
   "outputs": [
    {
     "data": {
      "text/plain": [
       "Array(269, 22, 1, 891448072)"
      ]
     },
     "execution_count": 8,
     "metadata": {},
     "output_type": "execute_result"
    }
   ],
   "source": [
    "lines_film(0)"
   ]
  },
  {
   "cell_type": "code",
   "execution_count": 9,
   "metadata": {},
   "outputs": [
    {
     "data": {
      "text/plain": [
       "hist_film_unsorted = Map(4 -> 98, 5 -> 134, 1 -> 5, 2 -> 14, 3 -> 46)\n"
      ]
     },
     "metadata": {},
     "output_type": "display_data"
    },
    {
     "data": {
      "text/plain": [
       "Map(4 -> 98, 5 -> 134, 1 -> 5, 2 -> 14, 3 -> 46)"
      ]
     },
     "execution_count": 9,
     "metadata": {},
     "output_type": "execute_result"
    }
   ],
   "source": [
    "val hist_film_unsorted = lines_film.groupBy(x => x(2)).mapValues(_.size)"
   ]
  },
  {
   "cell_type": "code",
   "execution_count": 10,
   "metadata": {},
   "outputs": [
    {
     "data": {
      "text/plain": [
       "hist_all_unsorted = Map(4 -> 34174, 5 -> 21201, 1 -> 6110, 2 -> 11370, 3 -> 27145)\n"
      ]
     },
     "metadata": {},
     "output_type": "display_data"
    },
    {
     "data": {
      "text/plain": [
       "Map(4 -> 34174, 5 -> 21201, 1 -> 6110, 2 -> 11370, 3 -> 27145)"
      ]
     },
     "execution_count": 10,
     "metadata": {},
     "output_type": "execute_result"
    }
   ],
   "source": [
    "val hist_all_unsorted = lines.groupBy(x => x(2)).mapValues(_.size)"
   ]
  },
  {
   "cell_type": "code",
   "execution_count": 11,
   "metadata": {},
   "outputs": [
    {
     "data": {
      "text/plain": [
       "hist_film = Map(1 -> 5, 2 -> 14, 3 -> 46, 4 -> 98, 5 -> 134)\n"
      ]
     },
     "metadata": {},
     "output_type": "display_data"
    },
    {
     "data": {
      "text/plain": [
       "Map(1 -> 5, 2 -> 14, 3 -> 46, 4 -> 98, 5 -> 134)"
      ]
     },
     "execution_count": 11,
     "metadata": {},
     "output_type": "execute_result"
    }
   ],
   "source": [
    "val hist_film = ListMap(hist_film_unsorted.toSeq.sortBy(_._1):_*)"
   ]
  },
  {
   "cell_type": "code",
   "execution_count": 12,
   "metadata": {},
   "outputs": [
    {
     "data": {
      "text/plain": [
       "hist_all = Map(1 -> 6110, 2 -> 11370, 3 -> 27145, 4 -> 34174, 5 -> 21201)\n"
      ]
     },
     "metadata": {},
     "output_type": "display_data"
    },
    {
     "data": {
      "text/plain": [
       "Map(1 -> 6110, 2 -> 11370, 3 -> 27145, 4 -> 34174, 5 -> 21201)"
      ]
     },
     "execution_count": 12,
     "metadata": {},
     "output_type": "execute_result"
    }
   ],
   "source": [
    "val hist_all = ListMap(hist_all_unsorted.toSeq.sortBy(_._1):_*)"
   ]
  },
  {
   "cell_type": "code",
   "execution_count": 13,
   "metadata": {},
   "outputs": [
    {
     "data": {
      "text/plain": [
       "List(5, 14, 46, 98, 134)"
      ]
     },
     "execution_count": 13,
     "metadata": {},
     "output_type": "execute_result"
    }
   ],
   "source": [
    "hist_film.values.toList"
   ]
  },
  {
   "cell_type": "code",
   "execution_count": 14,
   "metadata": {},
   "outputs": [
    {
     "data": {
      "text/plain": [
       "List(6110, 11370, 27145, 34174, 21201)"
      ]
     },
     "execution_count": 14,
     "metadata": {},
     "output_type": "execute_result"
    }
   ],
   "source": [
    "hist_all.values.toList"
   ]
  },
  {
   "cell_type": "code",
   "execution_count": 15,
   "metadata": {},
   "outputs": [
    {
     "data": {
      "text/plain": [
       "m = Map(hist_film -> List(5, 14, 46, 98, 134), hist_all -> List(6110, 11370, 27145, 34174, 21201))\n"
      ]
     },
     "metadata": {},
     "output_type": "display_data"
    },
    {
     "data": {
      "text/plain": [
       "Map(hist_film -> List(5, 14, 46, 98, 134), hist_all -> List(6110, 11370, 27145, 34174, 21201))"
      ]
     },
     "execution_count": 15,
     "metadata": {},
     "output_type": "execute_result"
    }
   ],
   "source": [
    "val m = Map(\n",
    "  \"hist_film\" -> hist_film.values.toList,\n",
    "  \"hist_all\" -> hist_all.values.toList\n",
    ")"
   ]
  },
  {
   "cell_type": "markdown",
   "metadata": {},
   "source": [
    "#### Required out format: {\"hist_film\":[11,22,33,44,55],\"hist_all\":[134,123,782,356,148]}"
   ]
  },
  {
   "cell_type": "code",
   "execution_count": 16,
   "metadata": {},
   "outputs": [
    {
     "data": {
      "text/plain": [
       "{\"hist_film\" : List(5, 14, 46, 98, 134), \"hist_all\" : List(6110, 11370, 27145, 34174, 21201)}"
      ]
     },
     "execution_count": 16,
     "metadata": {},
     "output_type": "execute_result"
    }
   ],
   "source": [
    "scala.util.parsing.json.JSONObject(m)"
   ]
  },
  {
   "cell_type": "code",
   "execution_count": 17,
   "metadata": {},
   "outputs": [
    {
     "data": {
      "text/plain": [
       "m_json = {\"hist_film\" : List(5, 14, 46, 98, 134), \"hist_all\" : List(6110, 11370, 27145, 34174, 21201)}\n"
      ]
     },
     "metadata": {},
     "output_type": "display_data"
    },
    {
     "data": {
      "text/plain": [
       "{\"hist_film\" : List(5, 14, 46, 98, 134), \"hist_all\" : List(6110, 11370, 27145, 34174, 21201)}"
      ]
     },
     "execution_count": 17,
     "metadata": {},
     "output_type": "execute_result"
    }
   ],
   "source": [
    "val m_json = scala.util.parsing.json.JSONObject(m)"
   ]
  },
  {
   "cell_type": "code",
   "execution_count": 18,
   "metadata": {},
   "outputs": [
    {
     "data": {
      "text/plain": [
       "str_json = {\"hist_film\":[5,14,46,98,134],\"hist_all\":[6110,11370,27145,34174,21201]}\n"
      ]
     },
     "metadata": {},
     "output_type": "display_data"
    },
    {
     "data": {
      "text/plain": [
       "{\"hist_film\":[5,14,46,98,134],\"hist_all\":[6110,11370,27145,34174,21201]}"
      ]
     },
     "execution_count": 18,
     "metadata": {},
     "output_type": "execute_result"
    }
   ],
   "source": [
    "val str_json = m_json.toString().replace(\"List\", \"\").replace(\"(\", \"[\").replace(\")\", \"]\").replace(\" \", \"\")"
   ]
  },
  {
   "cell_type": "code",
   "execution_count": 19,
   "metadata": {},
   "outputs": [
    {
     "data": {
      "text/plain": [
       "file = lab01.json\n",
       "writer = java.io.BufferedWriter@178ff753\n"
      ]
     },
     "metadata": {},
     "output_type": "display_data"
    },
    {
     "data": {
      "text/plain": [
       "java.io.BufferedWriter@178ff753"
      ]
     },
     "execution_count": 19,
     "metadata": {},
     "output_type": "execute_result"
    }
   ],
   "source": [
    "val file: File = new File(\"lab01.json\")\n",
    "val writer: BufferedWriter = new BufferedWriter(new FileWriter(file))\n",
    "writer.write(str_json)\n",
    "writer.close()"
   ]
  },
  {
   "cell_type": "markdown",
   "metadata": {},
   "source": [
    "#### Producing JSON"
   ]
  },
  {
   "cell_type": "code",
   "execution_count": 20,
   "metadata": {},
   "outputs": [
    {
     "name": "stdout",
     "output_type": "stream",
     "text": [
      "Marking org.json4s:json4s-jackson_2.11:3.2.11 for download\n",
      "Obtained 2 files\n"
     ]
    },
    {
     "data": {
      "text/plain": [
       "Waiting for a Spark session to start..."
      ]
     },
     "metadata": {},
     "output_type": "display_data"
    }
   ],
   "source": [
    "%AddDeps org.json4s json4s-jackson_2.11 3.2.11"
   ]
  },
  {
   "cell_type": "code",
   "execution_count": 21,
   "metadata": {},
   "outputs": [],
   "source": [
    "import org.json4s._\n",
    "import org.json4s.JsonDSL._\n",
    "import org.json4s.jackson.JsonMethods._"
   ]
  },
  {
   "cell_type": "code",
   "execution_count": 22,
   "metadata": {},
   "outputs": [
    {
     "name": "stdout",
     "output_type": "stream",
     "text": [
      "{\"hist_film\":[5,14,46,98,134],\"hist_all\":[6110,11370,27145,34174,21201]}\n"
     ]
    }
   ],
   "source": [
    "println(compact(render(m)))"
   ]
  }
 ],
 "metadata": {
  "kernelspec": {
   "display_name": "Apache Toree - Scala",
   "language": "scala",
   "name": "apache_toree_scala"
  },
  "language_info": {
   "codemirror_mode": "text/x-scala",
   "file_extension": ".scala",
   "mimetype": "text/x-scala",
   "name": "scala",
   "pygments_lexer": "scala",
   "version": "2.11.12"
  }
 },
 "nbformat": 4,
 "nbformat_minor": 2
}
